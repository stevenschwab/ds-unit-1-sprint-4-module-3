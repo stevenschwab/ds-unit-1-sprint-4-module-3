{
  "nbformat": 4,
  "nbformat_minor": 0,
  "metadata": {
    "colab": {
      "provenance": []
    },
    "kernelspec": {
      "name": "python3",
      "display_name": "Python 3"
    },
    "language_info": {
      "name": "python"
    }
  },
  "cells": [
    {
      "cell_type": "code",
      "execution_count": 1,
      "metadata": {
        "colab": {
          "base_uri": "https://localhost:8080/"
        },
        "id": "PRmTCAEmRLjG",
        "outputId": "feff86fd-e70a-4795-ad73-3783d40fef45"
      },
      "outputs": [
        {
          "output_type": "stream",
          "name": "stdout",
          "text": [
            "11\n"
          ]
        }
      ],
      "source": [
        "s = 'hello world'\n",
        "print(len(s))\n",
        "# white space included in length"
      ]
    },
    {
      "cell_type": "code",
      "source": [
        "s = 'hello world'\n",
        "print(s[3]) # s sub 3"
      ],
      "metadata": {
        "colab": {
          "base_uri": "https://localhost:8080/"
        },
        "id": "KeY0BKUqR8xs",
        "outputId": "c47bcd27-ae29-4ef3-97d9-bad0b1ddfea7"
      },
      "execution_count": 3,
      "outputs": [
        {
          "output_type": "stream",
          "name": "stdout",
          "text": [
            "l\n"
          ]
        }
      ]
    },
    {
      "cell_type": "code",
      "source": [
        "s = 'hello world'\n",
        "print(s[1:7]) # starting from index 1 up to 7, but not including 7"
      ],
      "metadata": {
        "colab": {
          "base_uri": "https://localhost:8080/"
        },
        "id": "DPQ6WDf2SFCi",
        "outputId": "84e9036f-07c0-4fb0-a62c-642a1bfbf952"
      },
      "execution_count": 5,
      "outputs": [
        {
          "output_type": "stream",
          "name": "stdout",
          "text": [
            "ello w\n"
          ]
        }
      ]
    },
    {
      "cell_type": "code",
      "source": [
        "s = 'hello world'\n",
        "print(s[:7]) # defaults to 0 as starting"
      ],
      "metadata": {
        "colab": {
          "base_uri": "https://localhost:8080/"
        },
        "id": "urkX5VX6SPvg",
        "outputId": "5745f1ae-4ded-4007-cc71-b6bbcee9fc91"
      },
      "execution_count": 6,
      "outputs": [
        {
          "output_type": "stream",
          "name": "stdout",
          "text": [
            "hello w\n"
          ]
        }
      ]
    },
    {
      "cell_type": "code",
      "source": [
        "s = 'hello world'\n",
        "print(s[:]) # copies a string"
      ],
      "metadata": {
        "colab": {
          "base_uri": "https://localhost:8080/"
        },
        "id": "cm9lW4FKSbSs",
        "outputId": "cbbfdbdc-ad94-46ff-d98b-bdafe2e8c432"
      },
      "execution_count": 7,
      "outputs": [
        {
          "output_type": "stream",
          "name": "stdout",
          "text": [
            "hello world\n"
          ]
        }
      ]
    },
    {
      "cell_type": "code",
      "source": [
        "s = 'hello world'\n",
        "s2 = '!!'\n",
        "print(s + s2) # concatenates strings"
      ],
      "metadata": {
        "colab": {
          "base_uri": "https://localhost:8080/"
        },
        "id": "PlVPG2fVSgyc",
        "outputId": "ea5a4ac9-2f5c-4da0-8c23-8d2c88ed65ce"
      },
      "execution_count": 8,
      "outputs": [
        {
          "output_type": "stream",
          "name": "stdout",
          "text": [
            "hello world!!\n"
          ]
        }
      ]
    },
    {
      "cell_type": "code",
      "source": [
        "s = 'hello world'\n",
        "s2 = '!!'\n",
        "print('hello' in s)"
      ],
      "metadata": {
        "colab": {
          "base_uri": "https://localhost:8080/"
        },
        "id": "HrOJHYZFSnkT",
        "outputId": "e0d48b2c-5715-428c-ba5b-134eefefda7e"
      },
      "execution_count": 9,
      "outputs": [
        {
          "output_type": "stream",
          "name": "stdout",
          "text": [
            "True\n"
          ]
        }
      ]
    },
    {
      "cell_type": "code",
      "source": [
        "s = 'hello world'\n",
        "s2 = '!!'\n",
        "print('goodbye' in s)"
      ],
      "metadata": {
        "colab": {
          "base_uri": "https://localhost:8080/"
        },
        "id": "a8HceGxlSvdv",
        "outputId": "bb1b9a0c-3de6-45c9-b488-004f4a586f3f"
      },
      "execution_count": 10,
      "outputs": [
        {
          "output_type": "stream",
          "name": "stdout",
          "text": [
            "False\n"
          ]
        }
      ]
    },
    {
      "cell_type": "code",
      "source": [
        "s = 'hello world'\n",
        "s2 = '!!'\n",
        "print('h' in s)"
      ],
      "metadata": {
        "colab": {
          "base_uri": "https://localhost:8080/"
        },
        "id": "fNHEFRmKSy-W",
        "outputId": "5901e2f6-6608-44cf-85f3-85c5d3352234"
      },
      "execution_count": 11,
      "outputs": [
        {
          "output_type": "stream",
          "name": "stdout",
          "text": [
            "True\n"
          ]
        }
      ]
    },
    {
      "cell_type": "code",
      "source": [
        "s = 'hello world'\n",
        "s2 = '!!'\n",
        "print('z' in s) # single character string is still considered a string"
      ],
      "metadata": {
        "colab": {
          "base_uri": "https://localhost:8080/"
        },
        "id": "E6rqEjJkS1XA",
        "outputId": "e991c237-0a2d-4690-8eef-99209f300537"
      },
      "execution_count": 12,
      "outputs": [
        {
          "output_type": "stream",
          "name": "stdout",
          "text": [
            "False\n"
          ]
        }
      ]
    },
    {
      "cell_type": "code",
      "source": [
        "s1 = 'hello world'\n",
        "s2 = '!!'\n",
        "print(s1.upper())"
      ],
      "metadata": {
        "colab": {
          "base_uri": "https://localhost:8080/"
        },
        "id": "_X3lg7DAS_Zv",
        "outputId": "3db628d8-e2e9-4871-987a-93c8727e57bf"
      },
      "execution_count": 13,
      "outputs": [
        {
          "output_type": "stream",
          "name": "stdout",
          "text": [
            "HELLO WORLD\n"
          ]
        }
      ]
    },
    {
      "cell_type": "code",
      "source": [
        "s1 = 'HELLO world'\n",
        "s2 = '!!'\n",
        "print(s1.lower())"
      ],
      "metadata": {
        "colab": {
          "base_uri": "https://localhost:8080/"
        },
        "id": "BfxsJxt1TFhZ",
        "outputId": "7136a20c-be68-42c1-ea63-54c653dd1346"
      },
      "execution_count": 16,
      "outputs": [
        {
          "output_type": "stream",
          "name": "stdout",
          "text": [
            "hello world\n"
          ]
        }
      ]
    },
    {
      "cell_type": "code",
      "source": [
        "s1 = '0'\n",
        "s2 = '!!'\n",
        "print(s1.isdigit())"
      ],
      "metadata": {
        "colab": {
          "base_uri": "https://localhost:8080/"
        },
        "id": "Ah3omXYhTLku",
        "outputId": "64549401-92a6-4d3f-f591-d8d67ddeded8"
      },
      "execution_count": 18,
      "outputs": [
        {
          "output_type": "stream",
          "name": "stdout",
          "text": [
            "True\n"
          ]
        }
      ]
    },
    {
      "cell_type": "code",
      "source": [
        "# strings are immutable\n",
        "\"\"\"\n",
        "[hello world] <- s1\n",
        "[!!] <- s2\n",
        "[HELLO WORLD]\n",
        "\"\"\"\n",
        "\n",
        "s1 = 'hello world'\n",
        "s2 = '!!'\n",
        "print(s1.upper()) # doesn't get stored in memory, gets handed to the print function"
      ],
      "metadata": {
        "colab": {
          "base_uri": "https://localhost:8080/"
        },
        "id": "bO-Swq9sTW5Q",
        "outputId": "14d0135a-e2d6-4954-d405-9d0c4262e946"
      },
      "execution_count": 19,
      "outputs": [
        {
          "output_type": "stream",
          "name": "stdout",
          "text": [
            "HELLO WORLD\n"
          ]
        }
      ]
    },
    {
      "cell_type": "code",
      "source": [
        "# strings are immutable\n",
        "\"\"\"\n",
        "[hello world]\n",
        "[!!] <- s2\n",
        "[HELLO WORLD] <- s1\n",
        "\"\"\"\n",
        "\n",
        "s1 = 'hello world'\n",
        "s2 = '!!'\n",
        "s1 = s1.upper() # points to new spot in memory\n",
        "print(s1)\n",
        "# python has built in method called garbage collection - finds memory not being used and deletes it (if not it would create a memory leak)"
      ],
      "metadata": {
        "id": "MR7wgyELT6vc"
      },
      "execution_count": null,
      "outputs": []
    },
    {
      "cell_type": "code",
      "source": [
        "x = 1\n",
        "msg = 'x is equal to ' + str(x)\n",
        "print(msg)"
      ],
      "metadata": {
        "colab": {
          "base_uri": "https://localhost:8080/"
        },
        "id": "tORy2O9YUT9b",
        "outputId": "32acd12f-54da-4415-ed4e-82ca2678f6d2"
      },
      "execution_count": 22,
      "outputs": [
        {
          "output_type": "stream",
          "name": "stdout",
          "text": [
            "x is equal to 1\n"
          ]
        }
      ]
    },
    {
      "cell_type": "code",
      "source": [
        "x = 1\n",
        "msg = f'x is equal to {x}' # python reduces it to a value and performs type conversion\n",
        "print(msg)"
      ],
      "metadata": {
        "colab": {
          "base_uri": "https://localhost:8080/"
        },
        "id": "NTfOgdVxUivU",
        "outputId": "73c02bff-32b4-4970-be56-fbe453c2db03"
      },
      "execution_count": 23,
      "outputs": [
        {
          "output_type": "stream",
          "name": "stdout",
          "text": [
            "x is equal to 1\n"
          ]
        }
      ]
    },
    {
      "cell_type": "code",
      "source": [
        "x = 1\n",
        "msg = f'x is equal to {x*10}' # python reduces it to a value and performs type conversion\n",
        "print(msg)"
      ],
      "metadata": {
        "colab": {
          "base_uri": "https://localhost:8080/"
        },
        "id": "rXtmxPaqUwXm",
        "outputId": "542c6f94-0fd3-4254-ef7e-73ec7843123f"
      },
      "execution_count": 24,
      "outputs": [
        {
          "output_type": "stream",
          "name": "stdout",
          "text": [
            "x is equal to 10\n"
          ]
        }
      ]
    },
    {
      "cell_type": "code",
      "source": [
        "# for loop basics\n",
        "for i in range(0, 10): # range function - up to but not including 10. i is just a variable, can be named anything\n",
        "    print(i)"
      ],
      "metadata": {
        "colab": {
          "base_uri": "https://localhost:8080/"
        },
        "id": "BvMr6fCbU70t",
        "outputId": "4a6cbd5b-c5d8-4cbb-b75c-cc53bcabc8a3"
      },
      "execution_count": 26,
      "outputs": [
        {
          "output_type": "stream",
          "name": "stdout",
          "text": [
            "0\n",
            "1\n",
            "2\n",
            "3\n",
            "4\n",
            "5\n",
            "6\n",
            "7\n",
            "8\n",
            "9\n"
          ]
        }
      ]
    },
    {
      "cell_type": "code",
      "source": [
        "for i in range(10): # can leave out starting number. Defaults to 0\n",
        "    print(i)"
      ],
      "metadata": {
        "colab": {
          "base_uri": "https://localhost:8080/"
        },
        "id": "dlJy3P6IVRPq",
        "outputId": "02387ac4-f198-4df2-9d5a-69a372814e0a"
      },
      "execution_count": 27,
      "outputs": [
        {
          "output_type": "stream",
          "name": "stdout",
          "text": [
            "0\n",
            "1\n",
            "2\n",
            "3\n",
            "4\n",
            "5\n",
            "6\n",
            "7\n",
            "8\n",
            "9\n"
          ]
        }
      ]
    },
    {
      "cell_type": "code",
      "source": [
        "s = 'hello world!'\n",
        "\n",
        "for idx in range(len(s)):\n",
        "  print(s[idx])"
      ],
      "metadata": {
        "colab": {
          "base_uri": "https://localhost:8080/"
        },
        "id": "CaUVWY7XVa15",
        "outputId": "d2b36bfe-f683-42ff-cd89-1d7f9d82eb5e"
      },
      "execution_count": 30,
      "outputs": [
        {
          "output_type": "stream",
          "name": "stdout",
          "text": [
            "h\n",
            "e\n",
            "l\n",
            "l\n",
            "o\n",
            " \n",
            "w\n",
            "o\n",
            "r\n",
            "l\n",
            "d\n",
            "!\n"
          ]
        }
      ]
    },
    {
      "cell_type": "code",
      "source": [
        "# iterable is any collection of data you can iterate over one step at a time\n",
        "for char in s: # for loops know how to iterate over iterable\n",
        "  print(char)"
      ],
      "metadata": {
        "colab": {
          "base_uri": "https://localhost:8080/"
        },
        "id": "XsdmRWZqVy5Q",
        "outputId": "3ebf2d15-3dd1-4065-f2b3-6979b9c293db"
      },
      "execution_count": 31,
      "outputs": [
        {
          "output_type": "stream",
          "name": "stdout",
          "text": [
            "h\n",
            "e\n",
            "l\n",
            "l\n",
            "o\n",
            " \n",
            "w\n",
            "o\n",
            "r\n",
            "l\n",
            "d\n",
            "!\n"
          ]
        }
      ]
    },
    {
      "cell_type": "markdown",
      "source": [
        "for loops are good for when the number of iterations is known\n",
        "can generate indexes with range()\n",
        "can loop through an iterable directly"
      ],
      "metadata": {
        "id": "3yPiAvyXWHjE"
      }
    },
    {
      "cell_type": "code",
      "source": [
        "# sets and lists are iterables because you know how many times you need to iterate\n",
        "\n",
        "for x in range(5):\n",
        "  print('hello')"
      ],
      "metadata": {
        "colab": {
          "base_uri": "https://localhost:8080/"
        },
        "id": "KRyxkR2GWT0l",
        "outputId": "9a8fc5c7-eb10-4088-ec28-72d22cee7ccf"
      },
      "execution_count": 32,
      "outputs": [
        {
          "output_type": "stream",
          "name": "stdout",
          "text": [
            "hello\n",
            "hello\n",
            "hello\n",
            "hello\n",
            "hello\n"
          ]
        }
      ]
    },
    {
      "cell_type": "code",
      "source": [
        "# string basics\n",
        "def my_function():\n",
        "  s = \"Hello!\"\n",
        "\n",
        "  l = len(s)\n",
        "\n",
        "  print(l)\n",
        "\n",
        "my_function()"
      ],
      "metadata": {
        "colab": {
          "base_uri": "https://localhost:8080/"
        },
        "id": "cANC6mxoWqsr",
        "outputId": "a7299d94-abd8-4856-b126-2ead142d018b"
      },
      "execution_count": 33,
      "outputs": [
        {
          "output_type": "stream",
          "name": "stdout",
          "text": [
            "6\n"
          ]
        }
      ]
    },
    {
      "cell_type": "code",
      "source": [
        "# string basics\n",
        "def my_function():\n",
        "  # 012345\n",
        "  s = \"Hello!\"\n",
        "\n",
        "  c = s[4]\n",
        "  print(c)\n",
        "\n",
        "my_function()"
      ],
      "metadata": {
        "colab": {
          "base_uri": "https://localhost:8080/"
        },
        "id": "Z6tvdrWqW_rn",
        "outputId": "e4b8913b-1208-4872-d1e6-579b870bd4a5"
      },
      "execution_count": 34,
      "outputs": [
        {
          "output_type": "stream",
          "name": "stdout",
          "text": [
            "o\n"
          ]
        }
      ]
    },
    {
      "cell_type": "code",
      "source": [
        "# string basics\n",
        "def my_function():\n",
        "  # 012345\n",
        "  s = \"Hello!\"\n",
        "\n",
        "  c = s[7] # index error\n",
        "  print(c)\n",
        "\n",
        "my_function()"
      ],
      "metadata": {
        "colab": {
          "base_uri": "https://localhost:8080/",
          "height": 305
        },
        "id": "eW37Gno1XMAV",
        "outputId": "ae8df412-c74d-4d29-f4c9-fca96cc84ad3"
      },
      "execution_count": 35,
      "outputs": [
        {
          "output_type": "error",
          "ename": "IndexError",
          "evalue": "string index out of range",
          "traceback": [
            "\u001b[0;31m---------------------------------------------------------------------------\u001b[0m",
            "\u001b[0;31mIndexError\u001b[0m                                Traceback (most recent call last)",
            "\u001b[0;32m/tmp/ipython-input-35-4017851642.py\u001b[0m in \u001b[0;36m<cell line: 0>\u001b[0;34m()\u001b[0m\n\u001b[1;32m      7\u001b[0m   \u001b[0mprint\u001b[0m\u001b[0;34m(\u001b[0m\u001b[0mc\u001b[0m\u001b[0;34m)\u001b[0m\u001b[0;34m\u001b[0m\u001b[0;34m\u001b[0m\u001b[0m\n\u001b[1;32m      8\u001b[0m \u001b[0;34m\u001b[0m\u001b[0m\n\u001b[0;32m----> 9\u001b[0;31m \u001b[0mmy_function\u001b[0m\u001b[0;34m(\u001b[0m\u001b[0;34m)\u001b[0m\u001b[0;34m\u001b[0m\u001b[0;34m\u001b[0m\u001b[0m\n\u001b[0m",
            "\u001b[0;32m/tmp/ipython-input-35-4017851642.py\u001b[0m in \u001b[0;36mmy_function\u001b[0;34m()\u001b[0m\n\u001b[1;32m      4\u001b[0m   \u001b[0ms\u001b[0m \u001b[0;34m=\u001b[0m \u001b[0;34m\"Hello!\"\u001b[0m\u001b[0;34m\u001b[0m\u001b[0;34m\u001b[0m\u001b[0m\n\u001b[1;32m      5\u001b[0m \u001b[0;34m\u001b[0m\u001b[0m\n\u001b[0;32m----> 6\u001b[0;31m   \u001b[0mc\u001b[0m \u001b[0;34m=\u001b[0m \u001b[0ms\u001b[0m\u001b[0;34m[\u001b[0m\u001b[0;36m7\u001b[0m\u001b[0;34m]\u001b[0m\u001b[0;34m\u001b[0m\u001b[0;34m\u001b[0m\u001b[0m\n\u001b[0m\u001b[1;32m      7\u001b[0m   \u001b[0mprint\u001b[0m\u001b[0;34m(\u001b[0m\u001b[0mc\u001b[0m\u001b[0;34m)\u001b[0m\u001b[0;34m\u001b[0m\u001b[0;34m\u001b[0m\u001b[0m\n\u001b[1;32m      8\u001b[0m \u001b[0;34m\u001b[0m\u001b[0m\n",
            "\u001b[0;31mIndexError\u001b[0m: string index out of range"
          ]
        }
      ]
    },
    {
      "cell_type": "code",
      "source": [
        "# string basics\n",
        "def my_function():\n",
        "  # 012345\n",
        "  s = \"Hello, world!\"\n",
        "\n",
        "  c = s[len(s) - 1] # last character\n",
        "  print(c)\n",
        "\n",
        "my_function()"
      ],
      "metadata": {
        "colab": {
          "base_uri": "https://localhost:8080/"
        },
        "id": "ToqL2ESvXQ65",
        "outputId": "75dddb38-ff86-43d7-8408-5f2b5087cd7b"
      },
      "execution_count": 41,
      "outputs": [
        {
          "output_type": "stream",
          "name": "stdout",
          "text": [
            "!\n"
          ]
        }
      ]
    },
    {
      "cell_type": "code",
      "source": [
        "# string basics\n",
        "def my_function():\n",
        "  # 012345\n",
        "  s = \"Hello, world\"\n",
        "\n",
        "  c = s[-1] # last character\n",
        "  print(c)\n",
        "\n",
        "my_function()"
      ],
      "metadata": {
        "colab": {
          "base_uri": "https://localhost:8080/"
        },
        "id": "2DjBB31jXf-I",
        "outputId": "2913ba32-0d9a-4abb-ee6b-1523ac633bbe"
      },
      "execution_count": 43,
      "outputs": [
        {
          "output_type": "stream",
          "name": "stdout",
          "text": [
            "d\n"
          ]
        }
      ]
    },
    {
      "cell_type": "code",
      "source": [
        "# string case and concatenation\n",
        "# string basics\n",
        "def my_function():\n",
        "  s = \"Hello, world!\"\n",
        "  t = s.upper()\n",
        "  print(t)\n",
        "\n",
        "my_function()"
      ],
      "metadata": {
        "colab": {
          "base_uri": "https://localhost:8080/"
        },
        "id": "SUjbJHsbXoSN",
        "outputId": "0995b49a-4f23-4303-e9bb-e94fedfb7098"
      },
      "execution_count": 44,
      "outputs": [
        {
          "output_type": "stream",
          "name": "stdout",
          "text": [
            "HELLO, WORLD!\n"
          ]
        }
      ]
    },
    {
      "cell_type": "code",
      "source": [
        "# string case and concatenation\n",
        "# string basics\n",
        "def my_function():\n",
        "  s = \"Hello, world!\"\n",
        "  t = s.lower()\n",
        "  print(t)\n",
        "\n",
        "my_function()"
      ],
      "metadata": {
        "colab": {
          "base_uri": "https://localhost:8080/"
        },
        "id": "ZlrcnOERYHni",
        "outputId": "12c81228-a1a2-4ad6-9384-5d8f3ff6f03c"
      },
      "execution_count": 45,
      "outputs": [
        {
          "output_type": "stream",
          "name": "stdout",
          "text": [
            "hello, world!\n"
          ]
        }
      ]
    },
    {
      "cell_type": "code",
      "source": [
        "# string case and concatenation\n",
        "# string basics\n",
        "def my_function():\n",
        "  s = \"Python\"\n",
        "\n",
        "  if s.isupper():\n",
        "    print(\"it's all uppercase!\")\n",
        "  elif s.islower():\n",
        "    print(\"it's all lowercase\")\n",
        "  else:\n",
        "    print(\"it's mixed case\")\n",
        "\n",
        "my_function()"
      ],
      "metadata": {
        "colab": {
          "base_uri": "https://localhost:8080/"
        },
        "id": "9UzPycZOYNgE",
        "outputId": "d2c0960e-1120-4bac-c94e-69c90b8a9611"
      },
      "execution_count": 50,
      "outputs": [
        {
          "output_type": "stream",
          "name": "stdout",
          "text": [
            "it's mixed case\n"
          ]
        }
      ]
    },
    {
      "cell_type": "code",
      "source": [
        "# string case and concatenation\n",
        "# string basics\n",
        "def my_function():\n",
        "  s = \"PYTHON\"\n",
        "\n",
        "  if s.isupper():\n",
        "    print(\"it's all uppercase!\")\n",
        "  elif s.islower():\n",
        "    print(\"it's all lowercase\")\n",
        "  else:\n",
        "    print(\"it's mixed case\")\n",
        "\n",
        "my_function()"
      ],
      "metadata": {
        "colab": {
          "base_uri": "https://localhost:8080/"
        },
        "id": "9T_GY6wFY3Eq",
        "outputId": "15d7f0ca-d646-446b-a19f-5888eac6974d"
      },
      "execution_count": 51,
      "outputs": [
        {
          "output_type": "stream",
          "name": "stdout",
          "text": [
            "it's all uppercase!\n"
          ]
        }
      ]
    },
    {
      "cell_type": "code",
      "source": [
        "# string case and concatenation\n",
        "# string basics\n",
        "def my_function():\n",
        "  s = \"python!\" # ignores punctuation\n",
        "\n",
        "  if s.isupper():\n",
        "    print(\"it's all uppercase!\")\n",
        "  elif s.islower():\n",
        "    print(\"it's all lowercase\")\n",
        "  else:\n",
        "    print(\"it's mixed case\")\n",
        "\n",
        "my_function()"
      ],
      "metadata": {
        "colab": {
          "base_uri": "https://localhost:8080/"
        },
        "id": "BbfU_PJ6Y453",
        "outputId": "a1d11af5-8e56-4a1a-899f-2a43f7668a13"
      },
      "execution_count": 53,
      "outputs": [
        {
          "output_type": "stream",
          "name": "stdout",
          "text": [
            "it's all lowercase\n"
          ]
        }
      ]
    },
    {
      "cell_type": "code",
      "source": [
        "# string case and concatenation\n",
        "# string basics\n",
        "def my_function():\n",
        "  s = \"Hello, \"\n",
        "  t = \"world!\"\n",
        "\n",
        "  x = s + t\n",
        "\n",
        "  print(x)\n",
        "\n",
        "my_function()"
      ],
      "metadata": {
        "colab": {
          "base_uri": "https://localhost:8080/"
        },
        "id": "RaDWBVjDZck3",
        "outputId": "c2c9b84b-544a-4f92-c6f1-ff94cc6edc99"
      },
      "execution_count": 54,
      "outputs": [
        {
          "output_type": "stream",
          "name": "stdout",
          "text": [
            "Hello, world!\n"
          ]
        }
      ]
    },
    {
      "cell_type": "code",
      "source": [
        "# string case and concatenation\n",
        "# string basics\n",
        "def my_function():\n",
        "  s = \"Hello, \"\n",
        "  t = 3490\n",
        "\n",
        "  x = s + str(t)\n",
        "\n",
        "  print(x)\n",
        "\n",
        "my_function()"
      ],
      "metadata": {
        "colab": {
          "base_uri": "https://localhost:8080/"
        },
        "id": "qn2HfbtRZr7N",
        "outputId": "0ac5f0ad-fc89-4b2f-ce06-f5fe16a051be"
      },
      "execution_count": 55,
      "outputs": [
        {
          "output_type": "stream",
          "name": "stdout",
          "text": [
            "Hello, 3490\n"
          ]
        }
      ]
    },
    {
      "cell_type": "code",
      "source": [
        "# string case and concatenation\n",
        "# string basics\n",
        "def my_function():\n",
        "  r = \"\"\n",
        "\n",
        "  r = r + \"a\"\n",
        "  r = r + \"b\"\n",
        "  r = r + \"c\"\n",
        "\n",
        "  print(r)\n",
        "\n",
        "my_function()"
      ],
      "metadata": {
        "colab": {
          "base_uri": "https://localhost:8080/"
        },
        "id": "9tWtV3kqZv5x",
        "outputId": "4284f267-0d5b-42b8-cbc4-c216880d5e60"
      },
      "execution_count": 56,
      "outputs": [
        {
          "output_type": "stream",
          "name": "stdout",
          "text": [
            "abc\n"
          ]
        }
      ]
    },
    {
      "cell_type": "code",
      "source": [
        "# string case and concatenation\n",
        "# string basics\n",
        "def my_function():\n",
        "  r = \"\"\n",
        "\n",
        "  r += \"a\" # shorthand\n",
        "  r += \"b\"\n",
        "  r += \"c\"\n",
        "\n",
        "  print(r)\n",
        "\n",
        "my_function()"
      ],
      "metadata": {
        "colab": {
          "base_uri": "https://localhost:8080/"
        },
        "id": "CoRNwiemaIju",
        "outputId": "f8f71acb-a9fd-4c4e-937b-e8c36daa2639"
      },
      "execution_count": 57,
      "outputs": [
        {
          "output_type": "stream",
          "name": "stdout",
          "text": [
            "abc\n"
          ]
        }
      ]
    },
    {
      "cell_type": "code",
      "source": [
        "# formatting strings (f-strings)\n",
        "# string case and concatenation\n",
        "# string basics\n",
        "def my_function():\n",
        "  s = \"x is 10 and y is 20\"\n",
        "\n",
        "  print(s)\n",
        "\n",
        "my_function()"
      ],
      "metadata": {
        "colab": {
          "base_uri": "https://localhost:8080/"
        },
        "id": "MeSv0nCHcA87",
        "outputId": "af77d9f0-76be-41ca-ca28-d43e58f82241"
      },
      "execution_count": 58,
      "outputs": [
        {
          "output_type": "stream",
          "name": "stdout",
          "text": [
            "x is 10 and y is 20\n"
          ]
        }
      ]
    },
    {
      "cell_type": "code",
      "source": [
        "# formatting strings (f-strings)\n",
        "# string case and concatenation\n",
        "# string basics\n",
        "def my_function():\n",
        "  s = \"x is \" + str(x) + \" and y is \" + str(20)\n",
        "\n",
        "  print(s)\n",
        "\n",
        "my_function()"
      ],
      "metadata": {
        "colab": {
          "base_uri": "https://localhost:8080/"
        },
        "id": "g3i4g-xAcRBW",
        "outputId": "acf28f69-ed53-4612-c03f-61406479a419"
      },
      "execution_count": 59,
      "outputs": [
        {
          "output_type": "stream",
          "name": "stdout",
          "text": [
            "x is 4 and y is 20\n"
          ]
        }
      ]
    },
    {
      "cell_type": "code",
      "source": [
        "# formatting strings (f-strings)\n",
        "# string case and concatenation\n",
        "# string basics\n",
        "def my_function(x, y):\n",
        "\n",
        "  s = f\"x is {x} and y is {y}\"\n",
        "\n",
        "  print(s)\n",
        "\n",
        "my_function(10, 25)"
      ],
      "metadata": {
        "colab": {
          "base_uri": "https://localhost:8080/"
        },
        "id": "yi1FxrtpcZth",
        "outputId": "eee24e02-d33b-489f-91a8-1bce9d0a8916"
      },
      "execution_count": 60,
      "outputs": [
        {
          "output_type": "stream",
          "name": "stdout",
          "text": [
            "x is 10 and y is 25\n"
          ]
        }
      ]
    },
    {
      "cell_type": "code",
      "source": [
        "# formatting strings (f-strings)\n",
        "# string case and concatenation\n",
        "# string basics\n",
        "def my_function(a, b):\n",
        "\n",
        "  for i in range(a, b, 2):\n",
        "    print(i)\n",
        "\n",
        "  print(\"Done!\")\n",
        "\n",
        "my_function(10, 25)"
      ],
      "metadata": {
        "colab": {
          "base_uri": "https://localhost:8080/"
        },
        "id": "OFuBn5XHePXn",
        "outputId": "edbf9489-25da-444e-db9d-f77435574fae"
      },
      "execution_count": 62,
      "outputs": [
        {
          "output_type": "stream",
          "name": "stdout",
          "text": [
            "10\n",
            "12\n",
            "14\n",
            "16\n",
            "18\n",
            "20\n",
            "22\n",
            "24\n",
            "Done!\n"
          ]
        }
      ]
    },
    {
      "cell_type": "code",
      "source": [
        "# formatting strings (f-strings)\n",
        "# string case and concatenation\n",
        "# string basics\n",
        "def my_function(a, b):\n",
        "\n",
        "  for i in range(a, b + 1): # inclusive\n",
        "    print(i)\n",
        "\n",
        "  print(\"Done!\")\n",
        "\n",
        "my_function(10, 25)"
      ],
      "metadata": {
        "colab": {
          "base_uri": "https://localhost:8080/"
        },
        "id": "oqJEjyREeqvO",
        "outputId": "5c287573-f103-48af-dffc-18d30299b611"
      },
      "execution_count": 63,
      "outputs": [
        {
          "output_type": "stream",
          "name": "stdout",
          "text": [
            "10\n",
            "11\n",
            "12\n",
            "13\n",
            "14\n",
            "15\n",
            "16\n",
            "17\n",
            "18\n",
            "19\n",
            "20\n",
            "21\n",
            "22\n",
            "23\n",
            "24\n",
            "25\n",
            "Done!\n"
          ]
        }
      ]
    },
    {
      "cell_type": "code",
      "source": [
        "# formatting strings (f-strings)\n",
        "# string case and concatenation\n",
        "# string basics\n",
        "def my_function(a, b):\n",
        "\n",
        "  for i in range(a, b, -1): # count down from 5 to 0 not including 0\n",
        "    print(i)\n",
        "\n",
        "  print(\"Done!\")\n",
        "\n",
        "my_function(5, 0)"
      ],
      "metadata": {
        "colab": {
          "base_uri": "https://localhost:8080/"
        },
        "id": "m_jgY6I1e4gG",
        "outputId": "bfa25609-816f-4f50-db34-ec99057aff5c"
      },
      "execution_count": 64,
      "outputs": [
        {
          "output_type": "stream",
          "name": "stdout",
          "text": [
            "5\n",
            "4\n",
            "3\n",
            "2\n",
            "1\n",
            "Done!\n"
          ]
        }
      ]
    },
    {
      "cell_type": "code",
      "source": [
        "def my_function(s):\n",
        "  print(s)\n",
        "\n",
        "my_function(\"Python!\")"
      ],
      "metadata": {
        "colab": {
          "base_uri": "https://localhost:8080/"
        },
        "id": "4We8x7N-fNWg",
        "outputId": "8e69ddb4-4aba-42fc-d386-1e6f0ac9f4b3"
      },
      "execution_count": 65,
      "outputs": [
        {
          "output_type": "stream",
          "name": "stdout",
          "text": [
            "Python!\n"
          ]
        }
      ]
    },
    {
      "cell_type": "code",
      "source": [
        "def my_function(s):\n",
        "  for i in range(len(s) - 1, -1, -1):\n",
        "    print(s[i])\n",
        "\n",
        "my_function(\"Python!\")"
      ],
      "metadata": {
        "colab": {
          "base_uri": "https://localhost:8080/"
        },
        "id": "TTOmRbCVfXhI",
        "outputId": "cc173d06-a18c-4706-9156-e7a527053ece"
      },
      "execution_count": 69,
      "outputs": [
        {
          "output_type": "stream",
          "name": "stdout",
          "text": [
            "!\n",
            "n\n",
            "o\n",
            "h\n",
            "t\n",
            "y\n",
            "P\n"
          ]
        }
      ]
    },
    {
      "cell_type": "code",
      "source": [
        "def my_function(s):\n",
        "  for i in range(len(s)):\n",
        "    print(s[i])\n",
        "\n",
        "my_function(\"Python!\")"
      ],
      "metadata": {
        "colab": {
          "base_uri": "https://localhost:8080/"
        },
        "id": "w12THGEdf44z",
        "outputId": "f066a193-92ac-429a-da9d-2f31536de513"
      },
      "execution_count": 70,
      "outputs": [
        {
          "output_type": "stream",
          "name": "stdout",
          "text": [
            "P\n",
            "y\n",
            "t\n",
            "h\n",
            "o\n",
            "n\n",
            "!\n"
          ]
        }
      ]
    },
    {
      "cell_type": "code",
      "source": [
        "# lists data structure\n",
        "# while-loops\n",
        "l = [] # creates an empty list\n",
        "z = [1, 2, 3, 4, 5, 6.5, 'abc', True] # can have anything in a list\n",
        "\n",
        "value = z[0]\n",
        "value2 = z[1]\n",
        "print(value, value2)"
      ],
      "metadata": {
        "colab": {
          "base_uri": "https://localhost:8080/"
        },
        "id": "HvUoXWzYgG7B",
        "outputId": "7632c3eb-db3f-43fe-be48-3761792c3c71"
      },
      "execution_count": 74,
      "outputs": [
        {
          "output_type": "stream",
          "name": "stdout",
          "text": [
            "1 2\n"
          ]
        }
      ]
    },
    {
      "cell_type": "code",
      "source": [
        "# lists data structure\n",
        "# while-loops\n",
        "l = [] # creates an empty list\n",
        "z = [1, 2, 3, 4, 5, 6.5, 'abc', True] # can have anything in a list\n",
        "\n",
        "value = z[1:6]\n",
        "print(value)"
      ],
      "metadata": {
        "colab": {
          "base_uri": "https://localhost:8080/"
        },
        "id": "XiPEEyIFgo-m",
        "outputId": "9bdbe04b-6fbc-4886-86d4-d35b9f540e26"
      },
      "execution_count": 75,
      "outputs": [
        {
          "output_type": "stream",
          "name": "stdout",
          "text": [
            "[2, 3, 4, 5, 6.5]\n"
          ]
        }
      ]
    },
    {
      "cell_type": "code",
      "source": [
        "# lists data structure\n",
        "# while-loops\n",
        "l = [] # creates an empty list\n",
        "z = [1, 2, 3, 4, 5, 6.5, 'abc', True] # can have anything in a list\n",
        "\n",
        "value = z[:]\n",
        "print(value)"
      ],
      "metadata": {
        "colab": {
          "base_uri": "https://localhost:8080/"
        },
        "id": "gPu3QQVoguFi",
        "outputId": "bec69ae3-aee4-449f-b6e5-2e7b91565da9"
      },
      "execution_count": 76,
      "outputs": [
        {
          "output_type": "stream",
          "name": "stdout",
          "text": [
            "[1, 2, 3, 4, 5, 6.5, 'abc', True]\n"
          ]
        }
      ]
    },
    {
      "cell_type": "code",
      "source": [
        "# lists data structure\n",
        "# while-loops\n",
        "l = [] # creates an empty list\n",
        "z = [1, 2, 3, 4, 5, 6.5, 'abc', True] # can have anything in a list\n",
        "\n",
        "z.append(0) # add 0 to end of the list\n",
        "print(z)"
      ],
      "metadata": {
        "colab": {
          "base_uri": "https://localhost:8080/"
        },
        "id": "WQVlEPF1gxMh",
        "outputId": "64bfb385-eb25-4a49-fff0-d740263655e4"
      },
      "execution_count": 77,
      "outputs": [
        {
          "output_type": "stream",
          "name": "stdout",
          "text": [
            "[1, 2, 3, 4, 5, 6.5, 'abc', True, 0]\n"
          ]
        }
      ]
    },
    {
      "cell_type": "code",
      "source": [
        "z.pop(0) # drops from the index\n",
        "print(z)"
      ],
      "metadata": {
        "colab": {
          "base_uri": "https://localhost:8080/"
        },
        "id": "ndaE6EAzg7TV",
        "outputId": "50f80846-4aa5-4cb1-ff83-14718220bf6b"
      },
      "execution_count": 78,
      "outputs": [
        {
          "output_type": "stream",
          "name": "stdout",
          "text": [
            "[2, 3, 4, 5, 6.5, 'abc', True, 0]\n"
          ]
        }
      ]
    },
    {
      "cell_type": "code",
      "source": [
        "z.pop() # removes the last index\n",
        "print(z)"
      ],
      "metadata": {
        "colab": {
          "base_uri": "https://localhost:8080/"
        },
        "id": "zgj8rS8yhAOl",
        "outputId": "66b743bc-9ca8-4f70-b215-58f46c82a9e5"
      },
      "execution_count": 79,
      "outputs": [
        {
          "output_type": "stream",
          "name": "stdout",
          "text": [
            "[2, 3, 4, 5, 6.5, 'abc', True]\n"
          ]
        }
      ]
    },
    {
      "cell_type": "code",
      "source": [
        "z.insert(0, 99) # index to insert at, value to insert\n",
        "print(z)"
      ],
      "metadata": {
        "colab": {
          "base_uri": "https://localhost:8080/"
        },
        "id": "chrjqmyVhEAU",
        "outputId": "8ec07cce-7006-4cac-a65c-538dd4a68226"
      },
      "execution_count": 80,
      "outputs": [
        {
          "output_type": "stream",
          "name": "stdout",
          "text": [
            "[99, 2, 3, 4, 5, 6.5, 'abc', True]\n"
          ]
        }
      ]
    },
    {
      "cell_type": "code",
      "source": [
        "condition = 7 in z\n",
        "print(condition)"
      ],
      "metadata": {
        "colab": {
          "base_uri": "https://localhost:8080/"
        },
        "id": "CQM7NhQUhLRE",
        "outputId": "df7a49c5-5fd3-4e3f-e6c7-bf3e2b3d0250"
      },
      "execution_count": 84,
      "outputs": [
        {
          "output_type": "stream",
          "name": "stdout",
          "text": [
            "False\n"
          ]
        }
      ]
    },
    {
      "cell_type": "code",
      "source": [
        "print(z)\n",
        "condition = 1 in z\n",
        "print(condition)"
      ],
      "metadata": {
        "colab": {
          "base_uri": "https://localhost:8080/"
        },
        "id": "jQlZxwMUhdMB",
        "outputId": "cf6addb5-c337-4631-e4b5-dd942505d9a9"
      },
      "execution_count": 86,
      "outputs": [
        {
          "output_type": "stream",
          "name": "stdout",
          "text": [
            "[99, 2, 3, 4, 5, 6.5, 'abc', True]\n",
            "True\n"
          ]
        }
      ]
    },
    {
      "cell_type": "code",
      "source": [
        "h = [4, 6, 2, 5, 8, 7]\n",
        "h.sort() # lists change in place\n",
        "print(h)"
      ],
      "metadata": {
        "colab": {
          "base_uri": "https://localhost:8080/"
        },
        "id": "Iecp6GeJh8LZ",
        "outputId": "7ed06108-1b6b-48b8-dacc-c51fd195bd53"
      },
      "execution_count": 89,
      "outputs": [
        {
          "output_type": "stream",
          "name": "stdout",
          "text": [
            "[2, 4, 5, 6, 7, 8]\n"
          ]
        }
      ]
    },
    {
      "cell_type": "code",
      "source": [
        "h.sort(reverse=True) # sort doesn't return anything (None), sorts in place\n",
        "print(h)"
      ],
      "metadata": {
        "colab": {
          "base_uri": "https://localhost:8080/"
        },
        "id": "D58KnyFOiKMQ",
        "outputId": "a84eca9b-e89c-4740-c3e1-9c7a1bde3ee3"
      },
      "execution_count": 91,
      "outputs": [
        {
          "output_type": "stream",
          "name": "stdout",
          "text": [
            "[8, 7, 6, 5, 4, 2]\n"
          ]
        }
      ]
    },
    {
      "cell_type": "code",
      "source": [
        "# basic types are immutable\n",
        "# lists, dictionaires, generic objects or classes ARE mutable\n",
        "\"\"\"\n",
        "[4, 6, 2, 5, 8, 7] <- h\n",
        "[]\n",
        "[]\n",
        "\"\"\"\n",
        "h = [4, 6, 2, 5, 8, 7]\n",
        "h.sort()\n",
        "print(h)"
      ],
      "metadata": {
        "colab": {
          "base_uri": "https://localhost:8080/"
        },
        "id": "XBe06A5iidza",
        "outputId": "cf67e3f4-96c0-442a-e31f-8d953cf955af"
      },
      "execution_count": 92,
      "outputs": [
        {
          "output_type": "stream",
          "name": "stdout",
          "text": [
            "[2, 4, 5, 6, 7, 8]\n"
          ]
        }
      ]
    },
    {
      "cell_type": "code",
      "source": [
        "# don't delete from a list while iterating\n",
        "b = [4, 3, 2, 1, 9]\n",
        "\n",
        "for value in b:\n",
        "  print(value)"
      ],
      "metadata": {
        "colab": {
          "base_uri": "https://localhost:8080/"
        },
        "id": "NL8UGd75izdP",
        "outputId": "0aa33bc9-c68d-44be-9ddd-8355019e7f0e"
      },
      "execution_count": 98,
      "outputs": [
        {
          "output_type": "stream",
          "name": "stdout",
          "text": [
            "4\n",
            "3\n",
            "2\n",
            "1\n",
            "9\n"
          ]
        }
      ]
    },
    {
      "cell_type": "code",
      "source": [
        "for i in range(len(b)): # indexes move when popping data\n",
        "  if b[i] % 2 == 0:\n",
        "    b.pop(i)\n",
        "\n",
        "print(b)"
      ],
      "metadata": {
        "colab": {
          "base_uri": "https://localhost:8080/",
          "height": 216
        },
        "id": "xVj9B5etjShS",
        "outputId": "99eec60f-8876-4ee5-ea51-cff8e1afbd4a"
      },
      "execution_count": 99,
      "outputs": [
        {
          "output_type": "error",
          "ename": "IndexError",
          "evalue": "list index out of range",
          "traceback": [
            "\u001b[0;31m---------------------------------------------------------------------------\u001b[0m",
            "\u001b[0;31mIndexError\u001b[0m                                Traceback (most recent call last)",
            "\u001b[0;32m/tmp/ipython-input-99-3933308089.py\u001b[0m in \u001b[0;36m<cell line: 0>\u001b[0;34m()\u001b[0m\n\u001b[1;32m      1\u001b[0m \u001b[0;32mfor\u001b[0m \u001b[0mi\u001b[0m \u001b[0;32min\u001b[0m \u001b[0mrange\u001b[0m\u001b[0;34m(\u001b[0m\u001b[0mlen\u001b[0m\u001b[0;34m(\u001b[0m\u001b[0mb\u001b[0m\u001b[0;34m)\u001b[0m\u001b[0;34m)\u001b[0m\u001b[0;34m:\u001b[0m\u001b[0;34m\u001b[0m\u001b[0;34m\u001b[0m\u001b[0m\n\u001b[0;32m----> 2\u001b[0;31m   \u001b[0;32mif\u001b[0m \u001b[0mb\u001b[0m\u001b[0;34m[\u001b[0m\u001b[0mi\u001b[0m\u001b[0;34m]\u001b[0m \u001b[0;34m%\u001b[0m \u001b[0;36m2\u001b[0m \u001b[0;34m==\u001b[0m \u001b[0;36m0\u001b[0m\u001b[0;34m:\u001b[0m\u001b[0;34m\u001b[0m\u001b[0;34m\u001b[0m\u001b[0m\n\u001b[0m\u001b[1;32m      3\u001b[0m     \u001b[0mb\u001b[0m\u001b[0;34m.\u001b[0m\u001b[0mpop\u001b[0m\u001b[0;34m(\u001b[0m\u001b[0mi\u001b[0m\u001b[0;34m)\u001b[0m\u001b[0;34m\u001b[0m\u001b[0;34m\u001b[0m\u001b[0m\n\u001b[1;32m      4\u001b[0m \u001b[0;34m\u001b[0m\u001b[0m\n\u001b[1;32m      5\u001b[0m \u001b[0mprint\u001b[0m\u001b[0;34m(\u001b[0m\u001b[0mb\u001b[0m\u001b[0;34m)\u001b[0m\u001b[0;34m\u001b[0m\u001b[0;34m\u001b[0m\u001b[0m\n",
            "\u001b[0;31mIndexError\u001b[0m: list index out of range"
          ]
        }
      ]
    },
    {
      "cell_type": "code",
      "source": [
        "l = [4, 5, 2]\n",
        "new_list = [] # create a copy of a list (don't want to delete data from old list)\n",
        "\n",
        "for i in range(len(l)):\n",
        "  if l[i] % 2 == 1:\n",
        "    new_list.append(l[i])\n",
        "\n",
        "print(new_list)\n",
        "print(l)"
      ],
      "metadata": {
        "colab": {
          "base_uri": "https://localhost:8080/"
        },
        "id": "8SieT6ayjjVh",
        "outputId": "83bfcb35-713b-4ebe-a687-542bbbc81e7c"
      },
      "execution_count": 100,
      "outputs": [
        {
          "output_type": "stream",
          "name": "stdout",
          "text": [
            "[5]\n",
            "[4, 5, 2]\n"
          ]
        }
      ]
    },
    {
      "cell_type": "code",
      "source": [
        "l = [4, 5, 2]\n",
        "new_list = [] # create a copy of a list (don't want to delete data from old list)\n",
        "\n",
        "for i in range(len(l)):\n",
        "  if l[i] % 2 == 1:\n",
        "    new_list.append(l[i])\n",
        "\n",
        "l = new_list\n",
        "print(l)"
      ],
      "metadata": {
        "colab": {
          "base_uri": "https://localhost:8080/"
        },
        "id": "-yC24f7Pj5TX",
        "outputId": "c02d8b08-d6fe-41e5-b18e-c8e54f9a6b93"
      },
      "execution_count": 101,
      "outputs": [
        {
          "output_type": "stream",
          "name": "stdout",
          "text": [
            "[5]\n"
          ]
        }
      ]
    },
    {
      "cell_type": "code",
      "source": [
        "# while loops\n",
        "# loops until a condition is met\n",
        "\n",
        "x = 10\n",
        "\n",
        "while x > 0:\n",
        "  print(x)\n",
        "  x -= 1\n",
        "\n",
        "print('exited loop')"
      ],
      "metadata": {
        "colab": {
          "base_uri": "https://localhost:8080/"
        },
        "id": "283qUIFMj9cj",
        "outputId": "f0c59fbd-5dfa-4830-957e-dd9739c33f60"
      },
      "execution_count": 102,
      "outputs": [
        {
          "output_type": "stream",
          "name": "stdout",
          "text": [
            "10\n",
            "9\n",
            "8\n",
            "7\n",
            "6\n",
            "5\n",
            "4\n",
            "3\n",
            "2\n",
            "1\n",
            "exited loop\n"
          ]
        }
      ]
    },
    {
      "cell_type": "code",
      "source": [
        "import random\n",
        "x = random.randint(1, 10)\n",
        "print(x)"
      ],
      "metadata": {
        "colab": {
          "base_uri": "https://localhost:8080/"
        },
        "id": "s5toBiqYmVd9",
        "outputId": "e6dce32e-455d-4e1b-b388-8b9c130cc395"
      },
      "execution_count": 104,
      "outputs": [
        {
          "output_type": "stream",
          "name": "stdout",
          "text": [
            "8\n"
          ]
        }
      ]
    },
    {
      "cell_type": "code",
      "source": [
        "def cs_array_get_length(a):\n",
        "  x = len(a)\n",
        "  return x\n",
        "\n",
        "cs_array_get_length([1, 2, 3, 4])"
      ],
      "metadata": {
        "colab": {
          "base_uri": "https://localhost:8080/"
        },
        "id": "ZqfeMAL1mu1n",
        "outputId": "7cad4251-3644-45aa-d997-44457afd9bc8"
      },
      "execution_count": 106,
      "outputs": [
        {
          "output_type": "execute_result",
          "data": {
            "text/plain": [
              "4"
            ]
          },
          "metadata": {},
          "execution_count": 106
        }
      ]
    },
    {
      "cell_type": "code",
      "source": [
        "def cs_array_get_element(a, index):\n",
        "  if index >= len(a) or index < -len(a):\n",
        "    return -999\n",
        "  x = a[index]\n",
        "  return x\n",
        "\n",
        "cs_array_get_element([1, 2, 3, 4], -5)"
      ],
      "metadata": {
        "colab": {
          "base_uri": "https://localhost:8080/"
        },
        "id": "eLYl69yjnApr",
        "outputId": "7720ad30-203f-44ec-8996-ceafc0b2bd64"
      },
      "execution_count": 113,
      "outputs": [
        {
          "output_type": "execute_result",
          "data": {
            "text/plain": [
              "-999"
            ]
          },
          "metadata": {},
          "execution_count": 113
        }
      ]
    },
    {
      "cell_type": "code",
      "source": [
        "a = [0, 11, 22, 33]\n",
        "\n",
        "a.append(999)\n",
        "\n",
        "print(f\"a is {a}\")"
      ],
      "metadata": {
        "colab": {
          "base_uri": "https://localhost:8080/"
        },
        "id": "tznls8dho8tJ",
        "outputId": "dc728a95-918f-42ca-c605-e233f7f3a775"
      },
      "execution_count": 115,
      "outputs": [
        {
          "output_type": "stream",
          "name": "stdout",
          "text": [
            "a is [0, 11, 22, 33, 999]\n"
          ]
        }
      ]
    },
    {
      "cell_type": "code",
      "source": [
        "a = [0, 11, 22, 33]\n",
        "\n",
        "a.insert(0, 998)\n",
        "\n",
        "print(f\"a is {a}\")"
      ],
      "metadata": {
        "colab": {
          "base_uri": "https://localhost:8080/"
        },
        "id": "M2oDWgGipXIZ",
        "outputId": "2b74e8ef-8985-4d74-ac73-4c61ac80a82f"
      },
      "execution_count": 117,
      "outputs": [
        {
          "output_type": "stream",
          "name": "stdout",
          "text": [
            "a is [998, 0, 11, 22, 33]\n"
          ]
        }
      ]
    },
    {
      "cell_type": "code",
      "source": [
        "a = [0, 11, 22, 33]\n",
        "\n",
        "a.pop(0)\n",
        "\n",
        "print(f\"a is {a}\")"
      ],
      "metadata": {
        "colab": {
          "base_uri": "https://localhost:8080/"
        },
        "id": "PJ1zDmpHpe6R",
        "outputId": "bfd7fca8-d271-4f5c-8c6a-b18d88c640f2"
      },
      "execution_count": 118,
      "outputs": [
        {
          "output_type": "stream",
          "name": "stdout",
          "text": [
            "a is [11, 22, 33]\n"
          ]
        }
      ]
    },
    {
      "cell_type": "code",
      "source": [
        "a = [0, 11, 22, 33]\n",
        "\n",
        "r = a.pop(0)\n",
        "\n",
        "print(f\"a is {a}\")\n",
        "print(f\"r is {r}\")"
      ],
      "metadata": {
        "colab": {
          "base_uri": "https://localhost:8080/"
        },
        "id": "IFQBv57JpiRo",
        "outputId": "f6a40d62-ebd3-44d3-83a1-49033e5b74bc"
      },
      "execution_count": 119,
      "outputs": [
        {
          "output_type": "stream",
          "name": "stdout",
          "text": [
            "a is [11, 22, 33]\n",
            "r is 0\n"
          ]
        }
      ]
    },
    {
      "cell_type": "code",
      "source": [
        "a = [0, 11, 22, 33]\n",
        "\n",
        "r = a.pop(1)\n",
        "\n",
        "print(f\"a is {a}\")\n",
        "print(f\"r is {r}\")"
      ],
      "metadata": {
        "colab": {
          "base_uri": "https://localhost:8080/"
        },
        "id": "pyZWdj1Kpywp",
        "outputId": "3a0a3da0-9310-48c6-b8a4-8c6430a0e790"
      },
      "execution_count": 120,
      "outputs": [
        {
          "output_type": "stream",
          "name": "stdout",
          "text": [
            "a is [0, 22, 33]\n",
            "r is 11\n"
          ]
        }
      ]
    },
    {
      "cell_type": "code",
      "source": [
        "a = [0, 11, 22, 33]\n",
        "\n",
        "a.insert(2, 999) # insert before index 2\n",
        "\n",
        "print(f\"a is {a}\")\n",
        "# print(f\"r is {r}\")"
      ],
      "metadata": {
        "colab": {
          "base_uri": "https://localhost:8080/"
        },
        "id": "58KnvXcnqCkt",
        "outputId": "d92a79da-3ad8-4ebc-92e8-b8205f4f925a"
      },
      "execution_count": 121,
      "outputs": [
        {
          "output_type": "stream",
          "name": "stdout",
          "text": [
            "a is [0, 11, 999, 22, 33]\n"
          ]
        }
      ]
    },
    {
      "cell_type": "code",
      "source": [
        "def cs_list_push(a, front, back):\n",
        "  a.insert(0, front)\n",
        "  a.append(back)\n",
        "  return a\n",
        "\n",
        "cs_list_push([1, 2, 3, 4], 5, 6)"
      ],
      "metadata": {
        "colab": {
          "base_uri": "https://localhost:8080/"
        },
        "id": "gpxw2avSqVr2",
        "outputId": "fea7da1c-459e-49bf-820b-c861b552403b"
      },
      "execution_count": 123,
      "outputs": [
        {
          "output_type": "execute_result",
          "data": {
            "text/plain": [
              "[5, 1, 2, 3, 4, 6]"
            ]
          },
          "metadata": {},
          "execution_count": 123
        }
      ]
    },
    {
      "cell_type": "code",
      "source": [
        "def cs_list_delete(a, index):\n",
        "  a.pop(index)\n",
        "  return a\n",
        "\n",
        "cs_list_delete([1, 2, 3, 4], 2)"
      ],
      "metadata": {
        "colab": {
          "base_uri": "https://localhost:8080/"
        },
        "id": "TGKa2wKVsEcS",
        "outputId": "0d753e29-089d-4541-87bf-5ea41fdd35d6"
      },
      "execution_count": 124,
      "outputs": [
        {
          "output_type": "execute_result",
          "data": {
            "text/plain": [
              "[1, 2, 4]"
            ]
          },
          "metadata": {},
          "execution_count": 124
        }
      ]
    },
    {
      "cell_type": "code",
      "source": [
        "# list filtering\n",
        "def list_filter(a, value):\n",
        "  new_list = [item for item in a if item != value]\n",
        "  return new_list\n",
        "\n",
        "list_filter([1,2,'a','b'], 'a')"
      ],
      "metadata": {
        "colab": {
          "base_uri": "https://localhost:8080/"
        },
        "id": "igz5hLAJtpa1",
        "outputId": "b1725633-1026-4d46-f91b-360066088319"
      },
      "execution_count": 126,
      "outputs": [
        {
          "output_type": "execute_result",
          "data": {
            "text/plain": [
              "[1, 2, 'b']"
            ]
          },
          "metadata": {},
          "execution_count": 126
        }
      ]
    },
    {
      "cell_type": "code",
      "source": [
        "# list filtering\n",
        "def list_filter(a, value):\n",
        "  for i in range(len(a)):\n",
        "    if a[i] == value:\n",
        "      a.pop(i) # list index out of range\n",
        "\n",
        "  return a\n",
        "\n",
        "list_filter([1,2,'a','b'], 'a')"
      ],
      "metadata": {
        "colab": {
          "base_uri": "https://localhost:8080/",
          "height": 305
        },
        "id": "Wre9RtXqu3wL",
        "outputId": "f29d2943-db24-449e-d3c4-39d617dc3409"
      },
      "execution_count": 127,
      "outputs": [
        {
          "output_type": "error",
          "ename": "IndexError",
          "evalue": "list index out of range",
          "traceback": [
            "\u001b[0;31m---------------------------------------------------------------------------\u001b[0m",
            "\u001b[0;31mIndexError\u001b[0m                                Traceback (most recent call last)",
            "\u001b[0;32m/tmp/ipython-input-127-2729557438.py\u001b[0m in \u001b[0;36m<cell line: 0>\u001b[0;34m()\u001b[0m\n\u001b[1;32m      7\u001b[0m   \u001b[0;32mreturn\u001b[0m \u001b[0ma\u001b[0m\u001b[0;34m\u001b[0m\u001b[0;34m\u001b[0m\u001b[0m\n\u001b[1;32m      8\u001b[0m \u001b[0;34m\u001b[0m\u001b[0m\n\u001b[0;32m----> 9\u001b[0;31m \u001b[0mlist_filter\u001b[0m\u001b[0;34m(\u001b[0m\u001b[0;34m[\u001b[0m\u001b[0;36m1\u001b[0m\u001b[0;34m,\u001b[0m\u001b[0;36m2\u001b[0m\u001b[0;34m,\u001b[0m\u001b[0;34m'a'\u001b[0m\u001b[0;34m,\u001b[0m\u001b[0;34m'b'\u001b[0m\u001b[0;34m]\u001b[0m\u001b[0;34m,\u001b[0m \u001b[0;34m'a'\u001b[0m\u001b[0;34m)\u001b[0m\u001b[0;34m\u001b[0m\u001b[0;34m\u001b[0m\u001b[0m\n\u001b[0m",
            "\u001b[0;32m/tmp/ipython-input-127-2729557438.py\u001b[0m in \u001b[0;36mlist_filter\u001b[0;34m(a, value)\u001b[0m\n\u001b[1;32m      2\u001b[0m \u001b[0;32mdef\u001b[0m \u001b[0mlist_filter\u001b[0m\u001b[0;34m(\u001b[0m\u001b[0ma\u001b[0m\u001b[0;34m,\u001b[0m \u001b[0mvalue\u001b[0m\u001b[0;34m)\u001b[0m\u001b[0;34m:\u001b[0m\u001b[0;34m\u001b[0m\u001b[0;34m\u001b[0m\u001b[0m\n\u001b[1;32m      3\u001b[0m   \u001b[0;32mfor\u001b[0m \u001b[0mi\u001b[0m \u001b[0;32min\u001b[0m \u001b[0mrange\u001b[0m\u001b[0;34m(\u001b[0m\u001b[0mlen\u001b[0m\u001b[0;34m(\u001b[0m\u001b[0ma\u001b[0m\u001b[0;34m)\u001b[0m\u001b[0;34m)\u001b[0m\u001b[0;34m:\u001b[0m\u001b[0;34m\u001b[0m\u001b[0;34m\u001b[0m\u001b[0m\n\u001b[0;32m----> 4\u001b[0;31m     \u001b[0;32mif\u001b[0m \u001b[0ma\u001b[0m\u001b[0;34m[\u001b[0m\u001b[0mi\u001b[0m\u001b[0;34m]\u001b[0m \u001b[0;34m==\u001b[0m \u001b[0mvalue\u001b[0m\u001b[0;34m:\u001b[0m\u001b[0;34m\u001b[0m\u001b[0;34m\u001b[0m\u001b[0m\n\u001b[0m\u001b[1;32m      5\u001b[0m       \u001b[0ma\u001b[0m\u001b[0;34m.\u001b[0m\u001b[0mpop\u001b[0m\u001b[0;34m(\u001b[0m\u001b[0mi\u001b[0m\u001b[0;34m)\u001b[0m \u001b[0;31m# list index out of range\u001b[0m\u001b[0;34m\u001b[0m\u001b[0;34m\u001b[0m\u001b[0m\n\u001b[1;32m      6\u001b[0m \u001b[0;34m\u001b[0m\u001b[0m\n",
            "\u001b[0;31mIndexError\u001b[0m: list index out of range"
          ]
        }
      ]
    },
    {
      "cell_type": "code",
      "source": [
        "# list filtering\n",
        "def list_filter(a, value):\n",
        "  new_list = []\n",
        "  for i in range(len(a)):\n",
        "    if a[i] != value:\n",
        "      new_list.append(a[i]) # list index out of range\n",
        "\n",
        "  return new_list\n",
        "\n",
        "list_filter([1,2,'a','b'], 'a')"
      ],
      "metadata": {
        "colab": {
          "base_uri": "https://localhost:8080/"
        },
        "id": "WwDO7RHVvEyu",
        "outputId": "634b15f5-737f-435b-d5ce-5fc26ce23efa"
      },
      "execution_count": 128,
      "outputs": [
        {
          "output_type": "execute_result",
          "data": {
            "text/plain": [
              "[1, 2, 'b']"
            ]
          },
          "metadata": {},
          "execution_count": 128
        }
      ]
    },
    {
      "cell_type": "code",
      "source": [
        "# list filtering\n",
        "def list_filter(a, value):\n",
        "  for i in range(len(a) - 1, -1, -1):\n",
        "    if a[i] == value:\n",
        "      a.pop(i) # remove element at index i\n",
        "\n",
        "  return a\n",
        "\n",
        "list_filter([1,2,'a','b'], 'a')"
      ],
      "metadata": {
        "colab": {
          "base_uri": "https://localhost:8080/"
        },
        "id": "ZScLgKFEvRDW",
        "outputId": "62fbb7e6-ee54-44ee-c0ae-baad68ee0a78"
      },
      "execution_count": 129,
      "outputs": [
        {
          "output_type": "execute_result",
          "data": {
            "text/plain": [
              "[1, 2, 'b']"
            ]
          },
          "metadata": {},
          "execution_count": 129
        }
      ]
    }
  ]
}